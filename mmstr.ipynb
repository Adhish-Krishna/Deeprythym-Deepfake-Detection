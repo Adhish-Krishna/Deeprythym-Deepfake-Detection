{
 "cells": [
  {
   "cell_type": "markdown",
   "metadata": {},
   "source": [
    "Importing Libraries"
   ]
  },
  {
   "cell_type": "code",
   "execution_count": 21,
   "metadata": {},
   "outputs": [],
   "source": [
    "import cv2\n",
    "import dlib\n",
    "import numpy as np\n",
    "from scipy import signal\n",
    "#from eulerian_magnification import magnify_color"
   ]
  },
  {
   "cell_type": "markdown",
   "metadata": {},
   "source": [
    "Initialize face detector and landmark predictor from Dlib"
   ]
  },
  {
   "cell_type": "code",
   "execution_count": 22,
   "metadata": {},
   "outputs": [],
   "source": [
    "detector = dlib.get_frontal_face_detector()\n",
    "predictor = dlib.shape_predictor('shape_predictor_68_face_landmarks.dat')"
   ]
  },
  {
   "cell_type": "markdown",
   "metadata": {},
   "source": [
    "Helper function to extract facial landmarks"
   ]
  },
  {
   "cell_type": "code",
   "execution_count": 23,
   "metadata": {},
   "outputs": [],
   "source": [
    "def get_landmarks(frame, face):\n",
    "    gray_frame = cv2.cvtColor(frame, cv2.COLOR_BGR2GRAY)\n",
    "    landmarks = predictor(gray_frame, face)\n",
    "    landmarks_points = []\n",
    "    for i in range(0, 68):  # Using 68 face landmarks\n",
    "        landmarks_points.append((landmarks.part(i).x, landmarks.part(i).y))\n",
    "    return landmarks_points"
   ]
  },
  {
   "cell_type": "markdown",
   "metadata": {},
   "source": [
    " Function to apply motion magnification on a video"
   ]
  },
  {
   "cell_type": "code",
   "execution_count": 24,
   "metadata": {},
   "outputs": [],
   "source": [
    "def apply_motion_magnification(input_video, amplification=50):\n",
    "    magnified_video = []\n",
    "    for frame in input_video:\n",
    "        # Apply a Gaussian blur to the frame\n",
    "        blurred_frame = cv2.GaussianBlur(frame, (5, 5), 0)\n",
    "        # Calculate the difference between the original and blurred frames\n",
    "        diff_frame = cv2.absdiff(frame, blurred_frame)\n",
    "        # Amplify the difference\n",
    "        amplified_frame = cv2.convertScaleAbs(diff_frame, alpha=amplification, beta=0)\n",
    "        magnified_video.append(amplified_frame)\n",
    "    return magnified_video"
   ]
  },
  {
   "cell_type": "markdown",
   "metadata": {},
   "source": [
    "Divide face into ROI blocks (here we assume grid-based partitioning)"
   ]
  },
  {
   "cell_type": "code",
   "execution_count": 32,
   "metadata": {},
   "outputs": [],
   "source": [
    "def get_face_rois(landmarks, frame):\n",
    "    # Get bounding box for the face using key points\n",
    "    (x_min, y_min) = np.min(landmarks, axis=0)\n",
    "    (x_max, y_max) = np.max(landmarks, axis=0)\n",
    "\n",
    "    # Define a grid (e.g., 5x5 ROIs)\n",
    "    grid_size = 5\n",
    "    rois = []\n",
    "    h_step = (y_max - y_min) // grid_size\n",
    "    w_step = (x_max - x_min) // grid_size\n",
    "\n",
    "    for i in range(grid_size):\n",
    "        for j in range(grid_size):\n",
    "            x_start = x_min + j * w_step\n",
    "            y_start = y_min + i * h_step\n",
    "            x_end = x_start + w_step\n",
    "            y_end = y_start + h_step\n",
    "            rois.append([x_start, y_start, x_end, y_end])  # Return [x_start, y_start, x_end, y_end]\n",
    "    return rois\n"
   ]
  },
  {
   "cell_type": "markdown",
   "metadata": {},
   "source": [
    "Compute average color changes in each ROI over time"
   ]
  },
  {
   "cell_type": "code",
   "execution_count": 26,
   "metadata": {},
   "outputs": [],
   "source": [
    "def compute_mmstr(rois, video_frames):\n",
    "    roi_values = np.zeros((len(video_frames), len(rois)))\n",
    "\n",
    "    # Loop through each frame in the video\n",
    "    for t, frame in enumerate(video_frames):\n",
    "        for i, roi in enumerate(rois):\n",
    "            # Extract the mean color intensity over the region (simplified approach)\n",
    "            x_start, y_start, width, height = roi\n",
    "            x_end = x_start + width\n",
    "            y_end = y_start + height\n",
    "            roi_mean = np.mean(cv2.cvtColor(frame, cv2.COLOR_BGR2RGB)[y_start:y_end, x_start:x_end], axis=(0, 1))\n",
    "            roi_values[t, i] = np.mean(roi_mean)  # Could use RGB separately or combined\n",
    "\n",
    "    # Return the MMSTR map with the temporal variation of each ROI\n",
    "    return roi_values"
   ]
  },
  {
   "cell_type": "markdown",
   "metadata": {},
   "source": [
    "Load the video and extract frames"
   ]
  },
  {
   "cell_type": "code",
   "execution_count": 27,
   "metadata": {},
   "outputs": [],
   "source": [
    "def process_video(video_path):\n",
    "    cap = cv2.VideoCapture(video_path)\n",
    "    video_frames = []\n",
    "    frame_count = 0\n",
    "    while cap.isOpened():\n",
    "        ret, frame = cap.read()\n",
    "        if not ret:\n",
    "            break\n",
    "        if frame_count % 10 == 0:  # Process every 10th frame\n",
    "            video_frames.append(frame)\n",
    "        frame_count += 1\n",
    "    cap.release()\n",
    "    return video_frames"
   ]
  },
  {
   "cell_type": "markdown",
   "metadata": {},
   "source": [
    "Main function to extract MMSTR from video"
   ]
  },
  {
   "cell_type": "code",
   "execution_count": 28,
   "metadata": {},
   "outputs": [],
   "source": [
    "def extract_mmstr_from_video(video_path):\n",
    "    # Load and magnify video\n",
    "    video_frames = process_video(video_path)\n",
    "    magnified_video = apply_motion_magnification(video_frames)\n",
    "\n",
    "    # Detect face in the first frame\n",
    "    face = detector(video_frames[0])[0]  # Assume one face for simplicity\n",
    "    landmarks = get_landmarks(video_frames[0], face)\n",
    "\n",
    "    # Get ROIs based on face landmarks\n",
    "    rois = get_face_rois(landmarks, video_frames[0])\n",
    "\n",
    "    # Compute the MMSTR\n",
    "    mmstr_map = compute_mmstr(rois, magnified_video)\n",
    "\n",
    "    return mmstr_map"
   ]
  },
  {
   "cell_type": "markdown",
   "metadata": {},
   "source": [
    "Usage"
   ]
  },
  {
   "cell_type": "code",
   "execution_count": 35,
   "metadata": {},
   "outputs": [],
   "source": [
    "mmstr_map = extract_mmstr_from_video(\"Dictators_-_Kim_Jong-Un_by_RepresentUs.webm.720p.vp9.webm\")\n"
   ]
  },
  {
   "cell_type": "markdown",
   "metadata": {},
   "source": [
    "Visualization of MMSTR (optional)"
   ]
  },
  {
   "cell_type": "code",
   "execution_count": 37,
   "metadata": {},
   "outputs": [
    {
     "data": {
      "image/png": "[encoded data removed]",
      "text/plain": [
       "<Figure size 640x480 with 1 Axes>"
      ]
     },
     "metadata": {},
     "output_type": "display_data"
    }
   ],
   "source": [
    "import matplotlib.pyplot as plt\n",
    "plt.imshow(mmstr_map, cmap='hot', interpolation='nearest')\n",
    "plt.title('MMSTR Heatmap')\n",
    "plt.show()"
   ]
  }
 ],
 "metadata": {
  "kernelspec": {
   "display_name": "sih2024",
   "language": "python",
   "name": "python3"
  },
  "language_info": {
   "codemirror_mode": {
    "name": "ipython",
    "version": 3
   },
   "file_extension": ".py",
   "mimetype": "text/x-python",
   "name": "python",
   "nbconvert_exporter": "python",
   "pygments_lexer": "ipython3",
   "version": "3.12.5"
  }
 },
 "nbformat": 4,
 "nbformat_minor": 2
}
